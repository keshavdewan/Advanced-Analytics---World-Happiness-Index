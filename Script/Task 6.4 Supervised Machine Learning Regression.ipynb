{
 "cells": [
  {
   "cell_type": "markdown",
   "id": "a94c0d0e",
   "metadata": {},
   "source": [
    "# Importing Libraries"
   ]
  },
  {
   "cell_type": "code",
   "execution_count": 1,
   "id": "243332ef",
   "metadata": {},
   "outputs": [],
   "source": [
    "import pandas as pd\n",
    "import numpy as np\n",
    "import seaborn as sns\n",
    "import matplotlib \n",
    "import matplotlib.pyplot as plt\n",
    "import os\n",
    "import sklearn\n",
    "from sklearn.model_selection import train_test_split\n",
    "from sklearn.linear_model import LinearRegression\n",
    "from sklearn.metrics import mean_squared_error, r2_score"
   ]
  },
  {
   "cell_type": "code",
   "execution_count": 2,
   "id": "b3b667a6",
   "metadata": {},
   "outputs": [],
   "source": [
    "%matplotlib inline"
   ]
  },
  {
   "cell_type": "code",
   "execution_count": 3,
   "id": "05c215a3",
   "metadata": {},
   "outputs": [],
   "source": [
    "#Importing Data\n",
    "df = pd.read_csv(os.path.join(r'C:\\Users\\iNDIA\\Desktop\\Career Foundry\\6 Advanced Analytics & Dashboard Design\\6.1 Sourcing Open Data\\World Happiness Report\\happiness_report.csv'))"
   ]
  },
  {
   "cell_type": "code",
   "execution_count": 4,
   "id": "aa1ea847",
   "metadata": {},
   "outputs": [
    {
     "data": {
      "text/html": [
       "<div>\n",
       "<style scoped>\n",
       "    .dataframe tbody tr th:only-of-type {\n",
       "        vertical-align: middle;\n",
       "    }\n",
       "\n",
       "    .dataframe tbody tr th {\n",
       "        vertical-align: top;\n",
       "    }\n",
       "\n",
       "    .dataframe thead th {\n",
       "        text-align: right;\n",
       "    }\n",
       "</style>\n",
       "<table border=\"1\" class=\"dataframe\">\n",
       "  <thead>\n",
       "    <tr style=\"text-align: right;\">\n",
       "      <th></th>\n",
       "      <th>Unnamed: 0</th>\n",
       "      <th>Country name</th>\n",
       "      <th>Country Code</th>\n",
       "      <th>Regional Indicator</th>\n",
       "      <th>year</th>\n",
       "      <th>Happiness Score</th>\n",
       "      <th>Log GDP per capita</th>\n",
       "      <th>Social support</th>\n",
       "      <th>Healthy life expectancy at birth</th>\n",
       "      <th>Freedom to make life choices</th>\n",
       "      <th>Generosity</th>\n",
       "      <th>Perceptions of corruption</th>\n",
       "    </tr>\n",
       "  </thead>\n",
       "  <tbody>\n",
       "    <tr>\n",
       "      <th>0</th>\n",
       "      <td>0</td>\n",
       "      <td>Afghanistan</td>\n",
       "      <td>AFG</td>\n",
       "      <td>South Asia</td>\n",
       "      <td>2008</td>\n",
       "      <td>3.724</td>\n",
       "      <td>7.370</td>\n",
       "      <td>0.451</td>\n",
       "      <td>50.80</td>\n",
       "      <td>0.718</td>\n",
       "      <td>0.168</td>\n",
       "      <td>0.882</td>\n",
       "    </tr>\n",
       "    <tr>\n",
       "      <th>1</th>\n",
       "      <td>1</td>\n",
       "      <td>Afghanistan</td>\n",
       "      <td>AFG</td>\n",
       "      <td>South Asia</td>\n",
       "      <td>2009</td>\n",
       "      <td>4.402</td>\n",
       "      <td>7.540</td>\n",
       "      <td>0.552</td>\n",
       "      <td>51.20</td>\n",
       "      <td>0.679</td>\n",
       "      <td>0.190</td>\n",
       "      <td>0.850</td>\n",
       "    </tr>\n",
       "    <tr>\n",
       "      <th>2</th>\n",
       "      <td>2</td>\n",
       "      <td>Afghanistan</td>\n",
       "      <td>AFG</td>\n",
       "      <td>South Asia</td>\n",
       "      <td>2010</td>\n",
       "      <td>4.758</td>\n",
       "      <td>7.647</td>\n",
       "      <td>0.539</td>\n",
       "      <td>51.60</td>\n",
       "      <td>0.600</td>\n",
       "      <td>0.121</td>\n",
       "      <td>0.707</td>\n",
       "    </tr>\n",
       "    <tr>\n",
       "      <th>3</th>\n",
       "      <td>3</td>\n",
       "      <td>Afghanistan</td>\n",
       "      <td>AFG</td>\n",
       "      <td>South Asia</td>\n",
       "      <td>2011</td>\n",
       "      <td>3.832</td>\n",
       "      <td>7.620</td>\n",
       "      <td>0.521</td>\n",
       "      <td>51.92</td>\n",
       "      <td>0.496</td>\n",
       "      <td>0.162</td>\n",
       "      <td>0.731</td>\n",
       "    </tr>\n",
       "    <tr>\n",
       "      <th>4</th>\n",
       "      <td>4</td>\n",
       "      <td>Afghanistan</td>\n",
       "      <td>AFG</td>\n",
       "      <td>South Asia</td>\n",
       "      <td>2012</td>\n",
       "      <td>3.783</td>\n",
       "      <td>7.705</td>\n",
       "      <td>0.521</td>\n",
       "      <td>52.24</td>\n",
       "      <td>0.531</td>\n",
       "      <td>0.236</td>\n",
       "      <td>0.776</td>\n",
       "    </tr>\n",
       "  </tbody>\n",
       "</table>\n",
       "</div>"
      ],
      "text/plain": [
       "   Unnamed: 0 Country name Country Code Regional Indicator  year  \\\n",
       "0           0  Afghanistan          AFG         South Asia  2008   \n",
       "1           1  Afghanistan          AFG         South Asia  2009   \n",
       "2           2  Afghanistan          AFG         South Asia  2010   \n",
       "3           3  Afghanistan          AFG         South Asia  2011   \n",
       "4           4  Afghanistan          AFG         South Asia  2012   \n",
       "\n",
       "   Happiness Score  Log GDP per capita  Social support  \\\n",
       "0            3.724               7.370           0.451   \n",
       "1            4.402               7.540           0.552   \n",
       "2            4.758               7.647           0.539   \n",
       "3            3.832               7.620           0.521   \n",
       "4            3.783               7.705           0.521   \n",
       "\n",
       "   Healthy life expectancy at birth  Freedom to make life choices  Generosity  \\\n",
       "0                             50.80                         0.718       0.168   \n",
       "1                             51.20                         0.679       0.190   \n",
       "2                             51.60                         0.600       0.121   \n",
       "3                             51.92                         0.496       0.162   \n",
       "4                             52.24                         0.531       0.236   \n",
       "\n",
       "   Perceptions of corruption  \n",
       "0                      0.882  \n",
       "1                      0.850  \n",
       "2                      0.707  \n",
       "3                      0.731  \n",
       "4                      0.776  "
      ]
     },
     "execution_count": 4,
     "metadata": {},
     "output_type": "execute_result"
    }
   ],
   "source": [
    "df.head()"
   ]
  },
  {
   "cell_type": "markdown",
   "id": "28921ccd",
   "metadata": {},
   "source": [
    "### Wrangling Data"
   ]
  },
  {
   "cell_type": "code",
   "execution_count": 5,
   "id": "a352caab",
   "metadata": {},
   "outputs": [],
   "source": [
    "# Dropping Column Unnamed: 0\n",
    "df = df.drop(columns = ['Unnamed: 0'])"
   ]
  },
  {
   "cell_type": "code",
   "execution_count": 6,
   "id": "fbc532f1",
   "metadata": {},
   "outputs": [
    {
     "data": {
      "text/html": [
       "<div>\n",
       "<style scoped>\n",
       "    .dataframe tbody tr th:only-of-type {\n",
       "        vertical-align: middle;\n",
       "    }\n",
       "\n",
       "    .dataframe tbody tr th {\n",
       "        vertical-align: top;\n",
       "    }\n",
       "\n",
       "    .dataframe thead th {\n",
       "        text-align: right;\n",
       "    }\n",
       "</style>\n",
       "<table border=\"1\" class=\"dataframe\">\n",
       "  <thead>\n",
       "    <tr style=\"text-align: right;\">\n",
       "      <th></th>\n",
       "      <th>Country name</th>\n",
       "      <th>Country Code</th>\n",
       "      <th>Regional Indicator</th>\n",
       "      <th>year</th>\n",
       "      <th>Happiness Score</th>\n",
       "      <th>Log GDP per capita</th>\n",
       "      <th>Social support</th>\n",
       "      <th>Healthy life expectancy at birth</th>\n",
       "      <th>Freedom to make life choices</th>\n",
       "      <th>Generosity</th>\n",
       "      <th>Perceptions of corruption</th>\n",
       "    </tr>\n",
       "  </thead>\n",
       "  <tbody>\n",
       "    <tr>\n",
       "      <th>0</th>\n",
       "      <td>Afghanistan</td>\n",
       "      <td>AFG</td>\n",
       "      <td>South Asia</td>\n",
       "      <td>2008</td>\n",
       "      <td>3.724</td>\n",
       "      <td>7.370</td>\n",
       "      <td>0.451</td>\n",
       "      <td>50.80</td>\n",
       "      <td>0.718</td>\n",
       "      <td>0.168</td>\n",
       "      <td>0.882</td>\n",
       "    </tr>\n",
       "    <tr>\n",
       "      <th>1</th>\n",
       "      <td>Afghanistan</td>\n",
       "      <td>AFG</td>\n",
       "      <td>South Asia</td>\n",
       "      <td>2009</td>\n",
       "      <td>4.402</td>\n",
       "      <td>7.540</td>\n",
       "      <td>0.552</td>\n",
       "      <td>51.20</td>\n",
       "      <td>0.679</td>\n",
       "      <td>0.190</td>\n",
       "      <td>0.850</td>\n",
       "    </tr>\n",
       "    <tr>\n",
       "      <th>2</th>\n",
       "      <td>Afghanistan</td>\n",
       "      <td>AFG</td>\n",
       "      <td>South Asia</td>\n",
       "      <td>2010</td>\n",
       "      <td>4.758</td>\n",
       "      <td>7.647</td>\n",
       "      <td>0.539</td>\n",
       "      <td>51.60</td>\n",
       "      <td>0.600</td>\n",
       "      <td>0.121</td>\n",
       "      <td>0.707</td>\n",
       "    </tr>\n",
       "    <tr>\n",
       "      <th>3</th>\n",
       "      <td>Afghanistan</td>\n",
       "      <td>AFG</td>\n",
       "      <td>South Asia</td>\n",
       "      <td>2011</td>\n",
       "      <td>3.832</td>\n",
       "      <td>7.620</td>\n",
       "      <td>0.521</td>\n",
       "      <td>51.92</td>\n",
       "      <td>0.496</td>\n",
       "      <td>0.162</td>\n",
       "      <td>0.731</td>\n",
       "    </tr>\n",
       "    <tr>\n",
       "      <th>4</th>\n",
       "      <td>Afghanistan</td>\n",
       "      <td>AFG</td>\n",
       "      <td>South Asia</td>\n",
       "      <td>2012</td>\n",
       "      <td>3.783</td>\n",
       "      <td>7.705</td>\n",
       "      <td>0.521</td>\n",
       "      <td>52.24</td>\n",
       "      <td>0.531</td>\n",
       "      <td>0.236</td>\n",
       "      <td>0.776</td>\n",
       "    </tr>\n",
       "  </tbody>\n",
       "</table>\n",
       "</div>"
      ],
      "text/plain": [
       "  Country name Country Code Regional Indicator  year  Happiness Score  \\\n",
       "0  Afghanistan          AFG         South Asia  2008            3.724   \n",
       "1  Afghanistan          AFG         South Asia  2009            4.402   \n",
       "2  Afghanistan          AFG         South Asia  2010            4.758   \n",
       "3  Afghanistan          AFG         South Asia  2011            3.832   \n",
       "4  Afghanistan          AFG         South Asia  2012            3.783   \n",
       "\n",
       "   Log GDP per capita  Social support  Healthy life expectancy at birth  \\\n",
       "0               7.370           0.451                             50.80   \n",
       "1               7.540           0.552                             51.20   \n",
       "2               7.647           0.539                             51.60   \n",
       "3               7.620           0.521                             51.92   \n",
       "4               7.705           0.521                             52.24   \n",
       "\n",
       "   Freedom to make life choices  Generosity  Perceptions of corruption  \n",
       "0                         0.718       0.168                      0.882  \n",
       "1                         0.679       0.190                      0.850  \n",
       "2                         0.600       0.121                      0.707  \n",
       "3                         0.496       0.162                      0.731  \n",
       "4                         0.531       0.236                      0.776  "
      ]
     },
     "execution_count": 6,
     "metadata": {},
     "output_type": "execute_result"
    }
   ],
   "source": [
    "df.head()"
   ]
  },
  {
   "cell_type": "code",
   "execution_count": 7,
   "id": "5ea20f40",
   "metadata": {},
   "outputs": [
    {
     "data": {
      "text/plain": [
       "(2128, 11)"
      ]
     },
     "execution_count": 7,
     "metadata": {},
     "output_type": "execute_result"
    }
   ],
   "source": [
    "df.shape"
   ]
  },
  {
   "cell_type": "markdown",
   "id": "e7355d51",
   "metadata": {},
   "source": [
    "#### Checking Missing Data"
   ]
  },
  {
   "cell_type": "code",
   "execution_count": 8,
   "id": "db266528",
   "metadata": {},
   "outputs": [
    {
     "data": {
      "text/plain": [
       "Country name                          0\n",
       "Country Code                          0\n",
       "Regional Indicator                    0\n",
       "year                                  0\n",
       "Happiness Score                       0\n",
       "Log GDP per capita                   35\n",
       "Social support                       13\n",
       "Healthy life expectancy at birth     54\n",
       "Freedom to make life choices         27\n",
       "Generosity                           55\n",
       "Perceptions of corruption           102\n",
       "dtype: int64"
      ]
     },
     "execution_count": 8,
     "metadata": {},
     "output_type": "execute_result"
    }
   ],
   "source": [
    "df.isnull().sum()"
   ]
  },
  {
   "cell_type": "markdown",
   "id": "a7a0b27f",
   "metadata": {},
   "source": [
    "Adding \"median\" to these missing values"
   ]
  },
  {
   "cell_type": "code",
   "execution_count": 9,
   "id": "9b094e29",
   "metadata": {},
   "outputs": [
    {
     "name": "stderr",
     "output_type": "stream",
     "text": [
      "C:\\Users\\iNDIA\\AppData\\Local\\Temp/ipykernel_12092/530051474.py:1: FutureWarning: Dropping of nuisance columns in DataFrame reductions (with 'numeric_only=None') is deprecated; in a future version this will raise TypeError.  Select only valid columns before calling the reduction.\n",
      "  df.median()\n"
     ]
    },
    {
     "data": {
      "text/plain": [
       "year                                2015.0000\n",
       "Happiness Score                        5.4185\n",
       "Log GDP per capita                     9.3770\n",
       "Social support                         0.8360\n",
       "Healthy life expectancy at birth      64.9000\n",
       "Freedom to make life choices           0.7530\n",
       "Generosity                            -0.0130\n",
       "Perceptions of corruption              0.7890\n",
       "dtype: float64"
      ]
     },
     "execution_count": 9,
     "metadata": {},
     "output_type": "execute_result"
    }
   ],
   "source": [
    "df.median()"
   ]
  },
  {
   "cell_type": "code",
   "execution_count": 10,
   "id": "3a6cbf6c",
   "metadata": {},
   "outputs": [],
   "source": [
    "df['Log GDP per capita'].fillna(9.3770, inplace = True)"
   ]
  },
  {
   "cell_type": "code",
   "execution_count": 11,
   "id": "cbcb14bf",
   "metadata": {},
   "outputs": [
    {
     "data": {
      "text/plain": [
       "Country name                          0\n",
       "Country Code                          0\n",
       "Regional Indicator                    0\n",
       "year                                  0\n",
       "Happiness Score                       0\n",
       "Log GDP per capita                    0\n",
       "Social support                       13\n",
       "Healthy life expectancy at birth     54\n",
       "Freedom to make life choices         27\n",
       "Generosity                           55\n",
       "Perceptions of corruption           102\n",
       "dtype: int64"
      ]
     },
     "execution_count": 11,
     "metadata": {},
     "output_type": "execute_result"
    }
   ],
   "source": [
    "df.isnull().sum()"
   ]
  },
  {
   "cell_type": "code",
   "execution_count": 13,
   "id": "31b58aea",
   "metadata": {},
   "outputs": [],
   "source": [
    "df['Social support'].fillna(0.8360, inplace = True)"
   ]
  },
  {
   "cell_type": "code",
   "execution_count": 14,
   "id": "161bb775",
   "metadata": {},
   "outputs": [],
   "source": [
    "df['Healthy life expectancy at birth'].fillna(64.9000, inplace = True)"
   ]
  },
  {
   "cell_type": "code",
   "execution_count": 15,
   "id": "e8db7ada",
   "metadata": {},
   "outputs": [],
   "source": [
    "df['Freedom to make life choices'].fillna(0.7530, inplace = True)"
   ]
  },
  {
   "cell_type": "code",
   "execution_count": 16,
   "id": "f9f00eba",
   "metadata": {},
   "outputs": [],
   "source": [
    "df['Generosity'].fillna(-0.0130, inplace = True)"
   ]
  },
  {
   "cell_type": "code",
   "execution_count": 17,
   "id": "a5ba85fa",
   "metadata": {},
   "outputs": [],
   "source": [
    "df['Perceptions of corruption'].fillna(0.7890, inplace = True)"
   ]
  },
  {
   "cell_type": "code",
   "execution_count": 18,
   "id": "b677281b",
   "metadata": {},
   "outputs": [
    {
     "data": {
      "text/plain": [
       "Country name                        0\n",
       "Country Code                        0\n",
       "Regional Indicator                  0\n",
       "year                                0\n",
       "Happiness Score                     0\n",
       "Log GDP per capita                  0\n",
       "Social support                      0\n",
       "Healthy life expectancy at birth    0\n",
       "Freedom to make life choices        0\n",
       "Generosity                          0\n",
       "Perceptions of corruption           0\n",
       "dtype: int64"
      ]
     },
     "execution_count": 18,
     "metadata": {},
     "output_type": "execute_result"
    }
   ],
   "source": [
    "df.isnull().sum()"
   ]
  },
  {
   "cell_type": "code",
   "execution_count": 19,
   "id": "861daded",
   "metadata": {},
   "outputs": [],
   "source": [
    "#Exporting this dataset\n",
    "df.to_csv(os.path.join(r'C:\\Users\\iNDIA\\Desktop\\Career Foundry\\6 Advanced Analytics & Dashboard Design\\6.1 Sourcing Open Data\\World Happiness Report', 'WHR.csv'))"
   ]
  },
  {
   "cell_type": "markdown",
   "id": "07db60e9",
   "metadata": {},
   "source": [
    "#### Data Cleaning\n",
    "Not required, as the data is from a reliable source only and all the missing values have already been filled up"
   ]
  },
  {
   "cell_type": "markdown",
   "id": "6d4af671",
   "metadata": {},
   "source": [
    "### Extreme Values check"
   ]
  },
  {
   "cell_type": "code",
   "execution_count": 20,
   "id": "cb08f76e",
   "metadata": {},
   "outputs": [
    {
     "name": "stderr",
     "output_type": "stream",
     "text": [
      "C:\\Users\\iNDIA\\anaconda3\\lib\\site-packages\\seaborn\\distributions.py:2619: FutureWarning: `distplot` is a deprecated function and will be removed in a future version. Please adapt your code to use either `displot` (a figure-level function with similar flexibility) or `histplot` (an axes-level function for histograms).\n",
      "  warnings.warn(msg, FutureWarning)\n"
     ]
    },
    {
     "data": {
      "text/plain": [
       "<AxesSubplot:xlabel='Happiness Score', ylabel='Density'>"
      ]
     },
     "execution_count": 20,
     "metadata": {},
     "output_type": "execute_result"
    },
    {
     "data": {
      "image/png": "[encoded data removed]",
      "text/plain": [
       "<Figure size 432x288 with 1 Axes>"
      ]
     },
     "metadata": {
      "needs_background": "light"
     },
     "output_type": "display_data"
    }
   ],
   "source": [
    "#Checking for Happiness Score\n",
    "\n",
    "sns.distplot(df['Happiness Score'], bins = 25)"
   ]
  },
  {
   "cell_type": "markdown",
   "id": "b303be98",
   "metadata": {},
   "source": [
    "There are no extreme values for the Happiness Scores"
   ]
  },
  {
   "cell_type": "code",
   "execution_count": 21,
   "id": "d95cd005",
   "metadata": {},
   "outputs": [
    {
     "name": "stderr",
     "output_type": "stream",
     "text": [
      "C:\\Users\\iNDIA\\anaconda3\\lib\\site-packages\\seaborn\\distributions.py:2619: FutureWarning: `distplot` is a deprecated function and will be removed in a future version. Please adapt your code to use either `displot` (a figure-level function with similar flexibility) or `histplot` (an axes-level function for histograms).\n",
      "  warnings.warn(msg, FutureWarning)\n"
     ]
    },
    {
     "data": {
      "text/plain": [
       "<AxesSubplot:xlabel='Social support', ylabel='Density'>"
      ]
     },
     "execution_count": 21,
     "metadata": {},
     "output_type": "execute_result"
    },
    {
     "data": {
      "image/png": "[encoded data removed]",
      "text/plain": [
       "<Figure size 432x288 with 1 Axes>"
      ]
     },
     "metadata": {
      "needs_background": "light"
     },
     "output_type": "display_data"
    }
   ],
   "source": [
    "#Checking for Social support\n",
    "\n",
    "sns.distplot(df['Social support'], bins = 25)"
   ]
  },
  {
   "cell_type": "markdown",
   "id": "515accbe",
   "metadata": {},
   "source": [
    "### 3. Data Prep for regression analysis"
   ]
  },
  {
   "cell_type": "code",
   "execution_count": 29,
   "id": "d4cd19ea",
   "metadata": {},
   "outputs": [
    {
     "data": {
      "image/png": "[encoded data removed]",
      "text/plain": [
       "<Figure size 432x288 with 1 Axes>"
      ]
     },
     "metadata": {
      "needs_background": "light"
     },
     "output_type": "display_data"
    }
   ],
   "source": [
    "# Create a plot using matplotlib for another look at how the\n",
    "# chosen variables plot against each other\n",
    "\n",
    "df.plot(y= 'Happiness Score', x= 'Social support', style = 'o') \n",
    "plt.title('Happiness Score VS Social support')\n",
    "plt.ylabel ('Happiness Score')\n",
    "plt.xlabel ('Social support')\n",
    "plt.show()"
   ]
  },
  {
   "cell_type": "code",
   "execution_count": 30,
   "id": "d39f85cc",
   "metadata": {},
   "outputs": [],
   "source": [
    "# Reshape the variables into NumPy arrays and put them into separate objects\n",
    "\n",
    "y = df['Happiness Score'].values.reshape(-1,1)\n",
    "X = df['Social support'].values.reshape(-1,1)\n",
    "\n",
    "# Happiness Score is a dependant variable (y), being dependant on independent variable of Social Support (X)"
   ]
  },
  {
   "cell_type": "code",
   "execution_count": 31,
   "id": "239bf170",
   "metadata": {},
   "outputs": [
    {
     "data": {
      "text/plain": [
       "array([[0.451],\n",
       "       [0.552],\n",
       "       [0.539],\n",
       "       ...,\n",
       "       [0.717],\n",
       "       [0.75 ],\n",
       "       [0.69 ]])"
      ]
     },
     "execution_count": 31,
     "metadata": {},
     "output_type": "execute_result"
    }
   ],
   "source": [
    "X"
   ]
  },
  {
   "cell_type": "code",
   "execution_count": 32,
   "id": "03ddc334",
   "metadata": {},
   "outputs": [
    {
     "data": {
      "text/plain": [
       "array([[3.724],\n",
       "       [4.402],\n",
       "       [4.758],\n",
       "       ...,\n",
       "       [3.16 ],\n",
       "       [3.145],\n",
       "       [2.995]])"
      ]
     },
     "execution_count": 32,
     "metadata": {},
     "output_type": "execute_result"
    }
   ],
   "source": [
    "y"
   ]
  },
  {
   "cell_type": "code",
   "execution_count": 33,
   "id": "84fb014c",
   "metadata": {},
   "outputs": [],
   "source": [
    "# Split data into training set and test set\n",
    "\n",
    "X_train, X_test, y_train, y_test = train_test_split(X, y, test_size = 0.3, random_state = 0)"
   ]
  },
  {
   "cell_type": "markdown",
   "id": "67000b2d",
   "metadata": {},
   "source": [
    "### Regression Analysis"
   ]
  },
  {
   "cell_type": "code",
   "execution_count": 34,
   "id": "1b6d6776",
   "metadata": {},
   "outputs": [],
   "source": [
    "regression = LinearRegression()"
   ]
  },
  {
   "cell_type": "code",
   "execution_count": 35,
   "id": "d1884d60",
   "metadata": {},
   "outputs": [],
   "source": [
    "# Create a regression object\n",
    "\n",
    "regression = LinearRegression() \n",
    "#this is the regression object we will fit into the training set"
   ]
  },
  {
   "cell_type": "code",
   "execution_count": 36,
   "id": "425ceb5d",
   "metadata": {},
   "outputs": [
    {
     "data": {
      "text/plain": [
       "LinearRegression()"
      ]
     },
     "execution_count": 36,
     "metadata": {},
     "output_type": "execute_result"
    }
   ],
   "source": [
    "#Fit the regression to the train set\n",
    "\n",
    "regression.fit(X_train, y_train)"
   ]
  },
  {
   "cell_type": "code",
   "execution_count": 37,
   "id": "d51383da",
   "metadata": {},
   "outputs": [],
   "source": [
    "#predicting the values of y using x\n",
    "\n",
    "y_predicted = regression.predict(X_test)"
   ]
  },
  {
   "cell_type": "code",
   "execution_count": 44,
   "id": "34f2b10c",
   "metadata": {},
   "outputs": [
    {
     "data": {
      "image/png": "[encoded data removed]",
      "text/plain": [
       "<Figure size 432x288 with 1 Axes>"
      ]
     },
     "metadata": {
      "needs_background": "light"
     },
     "output_type": "display_data"
    }
   ],
   "source": [
    "# Create a plot that shows the regression line from the model on the test set\n",
    "\n",
    "plot_test = plt\n",
    "plot_test.scatter(X_test, y_test, color ='purple', s=15)\n",
    "plot_test.plot(X_test,y_predicted,color = 'red', linewidth =3)\n",
    "plot_test.title('Happiness Score VS Social support (Test set)')\n",
    "plot_test.xlabel('Social support')\n",
    "plot_test.ylabel('Happiness Score')\n",
    "plot_test.show()"
   ]
  },
  {
   "cell_type": "code",
   "execution_count": 45,
   "id": "7cbc08db",
   "metadata": {},
   "outputs": [],
   "source": [
    "# Create objects that contain model summary statistics\n",
    "\n",
    "rmse = mean_squared_error(y_test, y_predicted) #This is the mean squared error\n",
    "r2 = r2_score(y_test, y_predicted) #This is R2 score"
   ]
  },
  {
   "cell_type": "code",
   "execution_count": 46,
   "id": "1f84a62f",
   "metadata": {},
   "outputs": [
    {
     "name": "stdout",
     "output_type": "stream",
     "text": [
      "Slope: [[5.49261114]]\n",
      "Mean squared error:  0.6577842346232691\n",
      "R2 score:  0.42863910165944485\n"
     ]
    }
   ],
   "source": [
    "# Print the model summary statistics\n",
    "# To evaluate model performance\n",
    "\n",
    "print('Slope:', regression.coef_)\n",
    "print('Mean squared error: ', rmse)\n",
    "print('R2 score: ', r2)"
   ]
  },
  {
   "cell_type": "markdown",
   "id": "f4d62e1c",
   "metadata": {},
   "source": [
    "The positive slope value of 5.49 indicates that as the value of X (i.e. Social support) increases the Happiness Score also increases\n",
    "\n",
    "A very small MSE (Mean squared error) value of 0.65 here indicates that the regression line passes very closely to the observation and provides good representation to the data\n",
    "\n",
    "R2 score of 0.42 though predicts that the model isn't a good fit. So for the sake of our study, we will do another check manually. "
   ]
  },
  {
   "cell_type": "code",
   "execution_count": 47,
   "id": "217d718b",
   "metadata": {},
   "outputs": [
    {
     "data": {
      "text/plain": [
       "array([[5.41095948],\n",
       "       [5.36152598],\n",
       "       [4.56509736],\n",
       "       [5.10886586],\n",
       "       [5.46039298],\n",
       "       [5.53728953],\n",
       "       [5.7679792 ],\n",
       "       [5.38349642],\n",
       "       [5.56475259],\n",
       "       [6.13049154],\n",
       "       [5.20773287],\n",
       "       [5.6196787 ],\n",
       "       [6.12499893],\n",
       "       [5.87783142],\n",
       "       [6.04810237],\n",
       "       [5.8174127 ],\n",
       "       [5.9162797 ],\n",
       "       [5.35054075],\n",
       "       [5.45490037],\n",
       "       [6.22935854],\n",
       "       [6.13598415],\n",
       "       [5.6691122 ],\n",
       "       [6.04810237],\n",
       "       [6.05908759],\n",
       "       [5.71305309],\n",
       "       [5.64714176],\n",
       "       [6.0151467 ],\n",
       "       [5.93825015],\n",
       "       [6.11950631],\n",
       "       [4.85620575],\n",
       "       [6.21837331],\n",
       "       [5.92177231],\n",
       "       [5.97669842],\n",
       "       [5.80642748],\n",
       "       [5.28462942],\n",
       "       [5.24618114],\n",
       "       [6.22935854],\n",
       "       [4.73536831],\n",
       "       [6.9983241 ],\n",
       "       [6.10852109],\n",
       "       [4.86169836],\n",
       "       [6.03711715],\n",
       "       [4.69142742],\n",
       "       [6.05908759],\n",
       "       [5.90529448],\n",
       "       [5.92726492],\n",
       "       [6.0645802 ],\n",
       "       [5.05393975],\n",
       "       [3.9938658 ],\n",
       "       [5.16928459],\n",
       "       [5.09238803],\n",
       "       [5.4713782 ],\n",
       "       [6.1140137 ],\n",
       "       [5.1747772 ],\n",
       "       [4.15315153],\n",
       "       [5.79544226],\n",
       "       [4.79029442],\n",
       "       [5.49884126],\n",
       "       [5.86135359],\n",
       "       [5.85036837],\n",
       "       [5.49884126],\n",
       "       [5.96022059],\n",
       "       [6.13598415],\n",
       "       [4.27948158],\n",
       "       [5.48785603],\n",
       "       [6.13598415],\n",
       "       [4.46073775],\n",
       "       [4.88916142],\n",
       "       [5.65263437],\n",
       "       [4.16413675],\n",
       "       [6.22935854],\n",
       "       [5.07041759],\n",
       "       [4.31243725],\n",
       "       [5.93825015],\n",
       "       [5.9162797 ],\n",
       "       [5.99866887],\n",
       "       [5.60320087],\n",
       "       [5.29012203],\n",
       "       [5.18026981],\n",
       "       [6.08655065],\n",
       "       [6.04810237],\n",
       "       [4.96605798],\n",
       "       [5.30659987],\n",
       "       [5.16379198],\n",
       "       [5.9162797 ],\n",
       "       [5.21322548],\n",
       "       [5.29561464],\n",
       "       [5.39448164],\n",
       "       [5.8668462 ],\n",
       "       [6.15246198],\n",
       "       [5.95472798],\n",
       "       [5.2736442 ],\n",
       "       [6.02613192],\n",
       "       [5.99866887],\n",
       "       [5.57573781],\n",
       "       [5.31209248],\n",
       "       [5.87783142],\n",
       "       [5.99866887],\n",
       "       [5.35054075],\n",
       "       [4.42778208],\n",
       "       [5.47687081],\n",
       "       [5.8668462 ],\n",
       "       [4.96056536],\n",
       "       [3.71923525],\n",
       "       [5.93825015],\n",
       "       [6.22386593],\n",
       "       [5.52630431],\n",
       "       [5.85586098],\n",
       "       [6.19640287],\n",
       "       [5.2242107 ],\n",
       "       [5.97120581],\n",
       "       [5.54278214],\n",
       "       [5.33955553],\n",
       "       [5.73502353],\n",
       "       [7.67940788],\n",
       "       [6.19091026],\n",
       "       [6.07556542],\n",
       "       [5.75150137],\n",
       "       [5.57573781],\n",
       "       [5.8668462 ],\n",
       "       [6.07007281],\n",
       "       [4.64748653],\n",
       "       [6.02613192],\n",
       "       [6.02613192],\n",
       "       [6.0645802 ],\n",
       "       [6.05908759],\n",
       "       [6.02613192],\n",
       "       [5.11985109],\n",
       "       [6.24583637],\n",
       "       [5.74051615],\n",
       "       [5.74051615],\n",
       "       [5.60320087],\n",
       "       [6.03162454],\n",
       "       [6.25682159],\n",
       "       [5.43292992],\n",
       "       [5.23519592],\n",
       "       [5.48785603],\n",
       "       [6.22386593],\n",
       "       [5.88881665],\n",
       "       [3.88401358],\n",
       "       [5.53728953],\n",
       "       [8.22866899],\n",
       "       [4.05977714],\n",
       "       [5.54278214],\n",
       "       [5.64164915],\n",
       "       [6.04810237],\n",
       "       [5.31209248],\n",
       "       [5.36701859],\n",
       "       [5.88881665],\n",
       "       [4.15315153],\n",
       "       [5.00450625],\n",
       "       [5.9657132 ],\n",
       "       [5.94374276],\n",
       "       [4.60354564],\n",
       "       [4.81226486],\n",
       "       [4.38384119],\n",
       "       [6.27879204],\n",
       "       [4.54312692],\n",
       "       [5.19125503],\n",
       "       [5.84487576],\n",
       "       [5.50982648],\n",
       "       [5.97669842],\n",
       "       [6.24583637],\n",
       "       [5.85586098],\n",
       "       [5.80093487],\n",
       "       [6.10302848],\n",
       "       [6.98184626],\n",
       "       [6.04260976],\n",
       "       [6.08655065],\n",
       "       [5.91078709],\n",
       "       [4.76283136],\n",
       "       [5.42743731],\n",
       "       [4.76283136],\n",
       "       [5.3230777 ],\n",
       "       [4.69142742],\n",
       "       [6.04260976],\n",
       "       [6.08655065],\n",
       "       [6.15246198],\n",
       "       [5.95472798],\n",
       "       [5.99317626],\n",
       "       [5.13632892],\n",
       "       [7.90460493],\n",
       "       [6.07007281],\n",
       "       [6.18541765],\n",
       "       [7.33886599],\n",
       "       [5.38898903],\n",
       "       [6.08655065],\n",
       "       [5.43842253],\n",
       "       [5.60320087],\n",
       "       [5.44391514],\n",
       "       [5.82290531],\n",
       "       [5.84487576],\n",
       "       [6.10302848],\n",
       "       [5.24618114],\n",
       "       [5.89430926],\n",
       "       [6.05908759],\n",
       "       [5.20224025],\n",
       "       [5.04844714],\n",
       "       [5.7185457 ],\n",
       "       [6.35019598],\n",
       "       [6.17992504],\n",
       "       [4.55960475],\n",
       "       [5.24068853],\n",
       "       [6.03162454],\n",
       "       [5.76248659],\n",
       "       [6.22386593],\n",
       "       [6.22386593],\n",
       "       [5.09238803],\n",
       "       [6.3117477 ],\n",
       "       [3.6972648 ],\n",
       "       [5.15280675],\n",
       "       [6.02063931],\n",
       "       [5.80642748],\n",
       "       [6.14147676],\n",
       "       [5.53728953],\n",
       "       [5.54278214],\n",
       "       [5.38349642],\n",
       "       [5.42743731],\n",
       "       [4.06526975],\n",
       "       [4.5815752 ],\n",
       "       [5.87783142],\n",
       "       [5.93275754],\n",
       "       [4.48820081],\n",
       "       [5.94923537],\n",
       "       [5.26265898],\n",
       "       [5.59221564],\n",
       "       [6.02063931],\n",
       "       [5.14182153],\n",
       "       [6.02063931],\n",
       "       [1.33544201],\n",
       "       [5.6196787 ],\n",
       "       [6.05908759],\n",
       "       [5.98219104],\n",
       "       [3.93344708],\n",
       "       [5.24068853],\n",
       "       [5.26265898],\n",
       "       [7.46519604],\n",
       "       [5.57573781],\n",
       "       [5.54827476],\n",
       "       [6.25132898],\n",
       "       [5.44391514],\n",
       "       [5.50982648],\n",
       "       [5.49884126],\n",
       "       [3.82359486],\n",
       "       [5.58123042],\n",
       "       [5.20224025],\n",
       "       [3.87302836],\n",
       "       [6.02063931],\n",
       "       [5.72953092],\n",
       "       [5.84487576],\n",
       "       [5.98219104],\n",
       "       [5.34504814],\n",
       "       [5.63066392],\n",
       "       [5.26265898],\n",
       "       [6.13598415],\n",
       "       [4.61453086],\n",
       "       [4.30694464],\n",
       "       [6.71820093],\n",
       "       [5.25716637],\n",
       "       [6.37765904],\n",
       "       [6.26780681],\n",
       "       [6.1140137 ],\n",
       "       [5.49334864],\n",
       "       [5.97120581],\n",
       "       [5.9162797 ],\n",
       "       [5.82839792],\n",
       "       [5.00999886],\n",
       "       [4.33990031],\n",
       "       [5.8174127 ],\n",
       "       [5.48236342],\n",
       "       [5.92726492],\n",
       "       [5.41645209],\n",
       "       [5.59221564],\n",
       "       [5.2736442 ],\n",
       "       [6.17443243],\n",
       "       [5.93275754],\n",
       "       [5.74051615],\n",
       "       [6.25682159],\n",
       "       [4.34539292],\n",
       "       [6.12499893],\n",
       "       [5.54827476],\n",
       "       [5.09238803],\n",
       "       [4.69692003],\n",
       "       [3.61487564],\n",
       "       [4.02132886],\n",
       "       [6.07556542],\n",
       "       [5.18576242],\n",
       "       [5.13632892],\n",
       "       [5.58672303],\n",
       "       [5.53179692],\n",
       "       [4.1915998 ],\n",
       "       [5.62517131],\n",
       "       [4.65847175],\n",
       "       [6.08655065],\n",
       "       [5.25167375],\n",
       "       [6.1140137 ],\n",
       "       [5.78445703],\n",
       "       [5.24068853],\n",
       "       [6.15246198],\n",
       "       [5.15280675],\n",
       "       [3.68078697],\n",
       "       [6.00965409],\n",
       "       [6.29526987],\n",
       "       [5.48236342],\n",
       "       [6.07007281],\n",
       "       [5.75699398],\n",
       "       [5.80642748],\n",
       "       [5.56475259],\n",
       "       [4.9770432 ],\n",
       "       [4.53763431],\n",
       "       [5.98219104],\n",
       "       [5.94923537],\n",
       "       [5.37800381],\n",
       "       [5.47687081],\n",
       "       [5.18576242],\n",
       "       [5.83389053],\n",
       "       [5.56475259],\n",
       "       [6.10852109],\n",
       "       [5.19674764],\n",
       "       [6.0151467 ],\n",
       "       [6.07007281],\n",
       "       [4.8287427 ],\n",
       "       [5.49334864],\n",
       "       [6.1634472 ],\n",
       "       [5.47687081],\n",
       "       [5.79544226],\n",
       "       [5.55925998],\n",
       "       [4.9276097 ],\n",
       "       [5.94923537],\n",
       "       [4.01583625],\n",
       "       [4.53763431],\n",
       "       [5.36152598],\n",
       "       [5.88881665],\n",
       "       [4.52115647],\n",
       "       [5.00999886],\n",
       "       [5.65812698],\n",
       "       [5.83938315],\n",
       "       [5.05393975],\n",
       "       [4.96056536],\n",
       "       [4.71889047],\n",
       "       [6.13049154],\n",
       "       [7.68490049],\n",
       "       [5.66361959],\n",
       "       [5.50982648],\n",
       "       [5.45490037],\n",
       "       [5.57573781],\n",
       "       [4.63650131],\n",
       "       [6.08655065],\n",
       "       [5.06492498],\n",
       "       [5.8668462 ],\n",
       "       [3.75219091],\n",
       "       [5.94923537],\n",
       "       [5.6691122 ],\n",
       "       [5.31758509],\n",
       "       [3.7961318 ],\n",
       "       [4.10921064],\n",
       "       [5.79544226],\n",
       "       [5.88332404],\n",
       "       [6.11950631],\n",
       "       [5.68559003],\n",
       "       [5.89430926],\n",
       "       [5.87783142],\n",
       "       [5.55376737],\n",
       "       [5.4219447 ],\n",
       "       [5.44391514],\n",
       "       [5.41095948],\n",
       "       [4.50467864],\n",
       "       [5.04844714],\n",
       "       [5.75150137],\n",
       "       [4.77381659],\n",
       "       [5.57573781],\n",
       "       [5.10337325],\n",
       "       [6.04810237],\n",
       "       [5.04295453],\n",
       "       [5.70206787],\n",
       "       [3.65332391],\n",
       "       [5.85036837],\n",
       "       [4.31243725],\n",
       "       [5.65263437],\n",
       "       [4.67494959],\n",
       "       [4.54312692],\n",
       "       [5.69657526],\n",
       "       [5.59221564],\n",
       "       [7.32788076],\n",
       "       [5.62517131],\n",
       "       [5.4219447 ],\n",
       "       [4.33990031],\n",
       "       [5.47687081],\n",
       "       [5.00450625],\n",
       "       [5.90529448],\n",
       "       [5.40546687],\n",
       "       [6.27879204],\n",
       "       [6.29526987],\n",
       "       [4.43876731],\n",
       "       [5.88881665],\n",
       "       [5.36152598],\n",
       "       [5.57573781],\n",
       "       [5.43842253],\n",
       "       [5.10886586],\n",
       "       [6.36667382],\n",
       "       [4.74635353],\n",
       "       [5.8668462 ],\n",
       "       [5.52630431],\n",
       "       [5.19674764],\n",
       "       [5.87783142],\n",
       "       [5.41645209],\n",
       "       [4.37285597],\n",
       "       [7.59701871],\n",
       "       [5.68009742],\n",
       "       [5.20224025],\n",
       "       [5.54827476],\n",
       "       [5.55376737],\n",
       "       [6.34470337],\n",
       "       [5.1253437 ],\n",
       "       [6.09204326],\n",
       "       [5.75699398],\n",
       "       [5.29561464],\n",
       "       [7.06423543],\n",
       "       [5.78445703],\n",
       "       [5.30659987],\n",
       "       [5.94923537],\n",
       "       [4.69692003],\n",
       "       [5.79544226],\n",
       "       [6.98733887],\n",
       "       [4.71889047],\n",
       "       [5.90529448],\n",
       "       [7.59701871],\n",
       "       [5.97120581],\n",
       "       [5.74051615],\n",
       "       [6.20189548],\n",
       "       [5.49334864],\n",
       "       [6.17443243],\n",
       "       [4.87268359],\n",
       "       [5.80642748],\n",
       "       [5.35603337],\n",
       "       [5.98219104],\n",
       "       [6.24583637],\n",
       "       [4.97155059],\n",
       "       [5.83389053],\n",
       "       [7.60800393],\n",
       "       [5.86135359],\n",
       "       [6.00416148],\n",
       "       [5.33406292],\n",
       "       [6.05908759],\n",
       "       [4.44425992],\n",
       "       [5.72403831],\n",
       "       [5.14182153],\n",
       "       [5.16379198],\n",
       "       [5.40546687],\n",
       "       [5.37800381],\n",
       "       [4.34539292],\n",
       "       [6.09753587],\n",
       "       [5.87233881],\n",
       "       [5.92177231],\n",
       "       [4.01583625],\n",
       "       [4.87268359],\n",
       "       [6.15795459],\n",
       "       [6.12499893],\n",
       "       [4.88366881],\n",
       "       [5.47687081],\n",
       "       [5.6691122 ],\n",
       "       [5.44391514],\n",
       "       [4.87268359],\n",
       "       [5.85036837],\n",
       "       [5.93825015],\n",
       "       [5.21322548],\n",
       "       [6.00416148],\n",
       "       [6.08105804],\n",
       "       [5.15280675],\n",
       "       [5.53728953],\n",
       "       [6.07007281],\n",
       "       [4.90014664],\n",
       "       [6.17992504],\n",
       "       [5.74051615],\n",
       "       [6.03711715],\n",
       "       [3.99935842],\n",
       "       [5.90529448],\n",
       "       [5.40546687],\n",
       "       [4.90014664],\n",
       "       [5.38898903],\n",
       "       [4.89465403],\n",
       "       [6.04260976],\n",
       "       [5.82290531],\n",
       "       [5.49334864],\n",
       "       [3.77416136],\n",
       "       [5.15829937],\n",
       "       [6.27879204],\n",
       "       [5.13632892],\n",
       "       [5.68009742],\n",
       "       [6.35019598],\n",
       "       [5.58123042],\n",
       "       [6.09753587],\n",
       "       [5.88332404],\n",
       "       [6.38315165],\n",
       "       [6.08105804],\n",
       "       [5.55376737],\n",
       "       [4.81226486],\n",
       "       [5.73502353],\n",
       "       [5.84487576],\n",
       "       [6.10852109],\n",
       "       [5.83389053],\n",
       "       [6.1634472 ],\n",
       "       [6.22386593],\n",
       "       [6.24034376],\n",
       "       [5.31209248],\n",
       "       [4.83423531],\n",
       "       [5.03746192],\n",
       "       [5.26265898],\n",
       "       [4.10921064],\n",
       "       [5.52630431],\n",
       "       [6.07007281],\n",
       "       [4.95507275],\n",
       "       [5.26265898],\n",
       "       [4.9770432 ],\n",
       "       [6.16893981],\n",
       "       [5.04295453],\n",
       "       [6.26780681],\n",
       "       [4.09822542],\n",
       "       [5.9162797 ],\n",
       "       [5.88332404],\n",
       "       [3.64233869],\n",
       "       [7.03677237],\n",
       "       [3.90598403],\n",
       "       [5.4713782 ],\n",
       "       [6.02063931],\n",
       "       [5.99317626],\n",
       "       [5.15280675],\n",
       "       [6.19091026],\n",
       "       [6.24034376],\n",
       "       [4.80677225],\n",
       "       [5.29561464],\n",
       "       [5.5208117 ],\n",
       "       [5.94923537],\n",
       "       [5.35603337],\n",
       "       [5.54278214],\n",
       "       [5.50433387],\n",
       "       [5.15280675],\n",
       "       [4.59256042],\n",
       "       [5.8668462 ],\n",
       "       [5.50433387],\n",
       "       [5.92726492],\n",
       "       [6.13049154],\n",
       "       [7.81123054],\n",
       "       [5.15280675],\n",
       "       [4.69692003],\n",
       "       [5.94374276],\n",
       "       [5.01549148],\n",
       "       [5.88881665],\n",
       "       [5.97120581],\n",
       "       [5.82839792],\n",
       "       [5.30659987],\n",
       "       [5.99866887],\n",
       "       [4.4827082 ],\n",
       "       [4.70790525],\n",
       "       [6.15795459],\n",
       "       [5.9162797 ],\n",
       "       [5.81192009],\n",
       "       [6.05359498],\n",
       "       [6.19091026],\n",
       "       [5.10886586],\n",
       "       [4.7793092 ],\n",
       "       [3.91147664],\n",
       "       [5.93825015],\n",
       "       [4.19709242],\n",
       "       [4.9276097 ],\n",
       "       [6.10302848],\n",
       "       [5.1747772 ],\n",
       "       [5.83938315],\n",
       "       [5.57573781],\n",
       "       [4.96605798],\n",
       "       [6.39413687],\n",
       "       [5.01549148],\n",
       "       [5.75699398],\n",
       "       [4.70241264],\n",
       "       [6.00965409],\n",
       "       [5.08140281],\n",
       "       [5.83389053],\n",
       "       [5.33406292],\n",
       "       [5.69108265],\n",
       "       [5.3725112 ],\n",
       "       [4.64199392],\n",
       "       [4.26300375],\n",
       "       [6.02063931],\n",
       "       [6.38315165],\n",
       "       [4.93859492],\n",
       "       [4.35088553],\n",
       "       [4.92211709],\n",
       "       [3.66980175],\n",
       "       [5.62517131],\n",
       "       [5.74051615],\n",
       "       [4.36736336],\n",
       "       [3.97189536],\n",
       "       [3.93893969],\n",
       "       [5.52630431],\n",
       "       [4.05977714],\n",
       "       [6.19640287],\n",
       "       [6.11950631],\n",
       "       [6.00416148],\n",
       "       [5.92726492],\n",
       "       [5.23519592],\n",
       "       [6.96536843],\n",
       "       [5.22970331],\n",
       "       [5.80642748],\n",
       "       [5.54278214],\n",
       "       [5.40546687],\n",
       "       [5.15280675],\n",
       "       [4.81775747],\n",
       "       [5.94923537],\n",
       "       [5.58123042],\n",
       "       [5.54278214],\n",
       "       [3.8455653 ],\n",
       "       [5.35603337],\n",
       "       [4.93310231],\n",
       "       [6.0151467 ],\n",
       "       [6.13049154],\n",
       "       [5.4219447 ],\n",
       "       [4.7793092 ],\n",
       "       [5.90529448],\n",
       "       [6.19091026],\n",
       "       [4.96056536],\n",
       "       [5.47687081],\n",
       "       [6.14147676],\n",
       "       [4.02132886],\n",
       "       [7.37182165],\n",
       "       [5.86135359],\n",
       "       [5.03746192],\n",
       "       [5.1747772 ],\n",
       "       [4.75733875],\n",
       "       [6.0151467 ],\n",
       "       [3.03265886],\n",
       "       [5.74051615],\n",
       "       [5.2242107 ],\n",
       "       [5.57573781],\n",
       "       [5.84487576],\n",
       "       [4.6804422 ],\n",
       "       [6.04810237],\n",
       "       [5.48785603],\n",
       "       [5.81192009],\n",
       "       [5.46588559]])"
      ]
     },
     "execution_count": 47,
     "metadata": {},
     "output_type": "execute_result"
    }
   ],
   "source": [
    "y_predicted"
   ]
  },
  {
   "cell_type": "code",
   "execution_count": 48,
   "id": "ee3b07ce",
   "metadata": {},
   "outputs": [
    {
     "data": {
      "text/html": [
       "<div>\n",
       "<style scoped>\n",
       "    .dataframe tbody tr th:only-of-type {\n",
       "        vertical-align: middle;\n",
       "    }\n",
       "\n",
       "    .dataframe tbody tr th {\n",
       "        vertical-align: top;\n",
       "    }\n",
       "\n",
       "    .dataframe thead th {\n",
       "        text-align: right;\n",
       "    }\n",
       "</style>\n",
       "<table border=\"1\" class=\"dataframe\">\n",
       "  <thead>\n",
       "    <tr style=\"text-align: right;\">\n",
       "      <th></th>\n",
       "      <th>Actual</th>\n",
       "      <th>Predicted</th>\n",
       "    </tr>\n",
       "  </thead>\n",
       "  <tbody>\n",
       "    <tr>\n",
       "      <th>0</th>\n",
       "      <td>5.934</td>\n",
       "      <td>5.410959</td>\n",
       "    </tr>\n",
       "    <tr>\n",
       "      <th>1</th>\n",
       "      <td>5.930</td>\n",
       "      <td>5.361526</td>\n",
       "    </tr>\n",
       "    <tr>\n",
       "      <th>2</th>\n",
       "      <td>4.090</td>\n",
       "      <td>4.565097</td>\n",
       "    </tr>\n",
       "    <tr>\n",
       "      <th>3</th>\n",
       "      <td>4.725</td>\n",
       "      <td>5.108866</td>\n",
       "    </tr>\n",
       "    <tr>\n",
       "      <th>4</th>\n",
       "      <td>4.213</td>\n",
       "      <td>5.460393</td>\n",
       "    </tr>\n",
       "    <tr>\n",
       "      <th>5</th>\n",
       "      <td>3.993</td>\n",
       "      <td>5.537290</td>\n",
       "    </tr>\n",
       "    <tr>\n",
       "      <th>6</th>\n",
       "      <td>5.463</td>\n",
       "      <td>5.767979</td>\n",
       "    </tr>\n",
       "    <tr>\n",
       "      <th>7</th>\n",
       "      <td>5.074</td>\n",
       "      <td>5.383496</td>\n",
       "    </tr>\n",
       "    <tr>\n",
       "      <th>8</th>\n",
       "      <td>6.536</td>\n",
       "      <td>5.564753</td>\n",
       "    </tr>\n",
       "    <tr>\n",
       "      <th>9</th>\n",
       "      <td>6.676</td>\n",
       "      <td>6.130492</td>\n",
       "    </tr>\n",
       "    <tr>\n",
       "      <th>10</th>\n",
       "      <td>3.795</td>\n",
       "      <td>5.207733</td>\n",
       "    </tr>\n",
       "    <tr>\n",
       "      <th>11</th>\n",
       "      <td>6.690</td>\n",
       "      <td>5.619679</td>\n",
       "    </tr>\n",
       "    <tr>\n",
       "      <th>12</th>\n",
       "      <td>5.970</td>\n",
       "      <td>6.124999</td>\n",
       "    </tr>\n",
       "    <tr>\n",
       "      <th>13</th>\n",
       "      <td>7.069</td>\n",
       "      <td>5.877831</td>\n",
       "    </tr>\n",
       "    <tr>\n",
       "      <th>14</th>\n",
       "      <td>7.219</td>\n",
       "      <td>6.048102</td>\n",
       "    </tr>\n",
       "    <tr>\n",
       "      <th>15</th>\n",
       "      <td>6.168</td>\n",
       "      <td>5.817413</td>\n",
       "    </tr>\n",
       "    <tr>\n",
       "      <th>16</th>\n",
       "      <td>5.252</td>\n",
       "      <td>5.916280</td>\n",
       "    </tr>\n",
       "    <tr>\n",
       "      <th>17</th>\n",
       "      <td>5.970</td>\n",
       "      <td>5.350541</td>\n",
       "    </tr>\n",
       "    <tr>\n",
       "      <th>18</th>\n",
       "      <td>5.062</td>\n",
       "      <td>5.454900</td>\n",
       "    </tr>\n",
       "    <tr>\n",
       "      <th>19</th>\n",
       "      <td>7.327</td>\n",
       "      <td>6.229359</td>\n",
       "    </tr>\n",
       "    <tr>\n",
       "      <th>20</th>\n",
       "      <td>5.650</td>\n",
       "      <td>6.135984</td>\n",
       "    </tr>\n",
       "    <tr>\n",
       "      <th>21</th>\n",
       "      <td>4.483</td>\n",
       "      <td>5.669112</td>\n",
       "    </tr>\n",
       "    <tr>\n",
       "      <th>22</th>\n",
       "      <td>7.225</td>\n",
       "      <td>6.048102</td>\n",
       "    </tr>\n",
       "    <tr>\n",
       "      <th>23</th>\n",
       "      <td>5.882</td>\n",
       "      <td>6.059088</td>\n",
       "    </tr>\n",
       "    <tr>\n",
       "      <th>24</th>\n",
       "      <td>4.892</td>\n",
       "      <td>5.713053</td>\n",
       "    </tr>\n",
       "    <tr>\n",
       "      <th>25</th>\n",
       "      <td>5.840</td>\n",
       "      <td>5.647142</td>\n",
       "    </tr>\n",
       "    <tr>\n",
       "      <th>26</th>\n",
       "      <td>7.434</td>\n",
       "      <td>6.015147</td>\n",
       "    </tr>\n",
       "    <tr>\n",
       "      <th>27</th>\n",
       "      <td>6.468</td>\n",
       "      <td>5.938250</td>\n",
       "    </tr>\n",
       "    <tr>\n",
       "      <th>28</th>\n",
       "      <td>4.913</td>\n",
       "      <td>6.119506</td>\n",
       "    </tr>\n",
       "    <tr>\n",
       "      <th>29</th>\n",
       "      <td>4.419</td>\n",
       "      <td>4.856206</td>\n",
       "    </tr>\n",
       "  </tbody>\n",
       "</table>\n",
       "</div>"
      ],
      "text/plain": [
       "    Actual  Predicted\n",
       "0    5.934   5.410959\n",
       "1    5.930   5.361526\n",
       "2    4.090   4.565097\n",
       "3    4.725   5.108866\n",
       "4    4.213   5.460393\n",
       "5    3.993   5.537290\n",
       "6    5.463   5.767979\n",
       "7    5.074   5.383496\n",
       "8    6.536   5.564753\n",
       "9    6.676   6.130492\n",
       "10   3.795   5.207733\n",
       "11   6.690   5.619679\n",
       "12   5.970   6.124999\n",
       "13   7.069   5.877831\n",
       "14   7.219   6.048102\n",
       "15   6.168   5.817413\n",
       "16   5.252   5.916280\n",
       "17   5.970   5.350541\n",
       "18   5.062   5.454900\n",
       "19   7.327   6.229359\n",
       "20   5.650   6.135984\n",
       "21   4.483   5.669112\n",
       "22   7.225   6.048102\n",
       "23   5.882   6.059088\n",
       "24   4.892   5.713053\n",
       "25   5.840   5.647142\n",
       "26   7.434   6.015147\n",
       "27   6.468   5.938250\n",
       "28   4.913   6.119506\n",
       "29   4.419   4.856206"
      ]
     },
     "execution_count": 48,
     "metadata": {},
     "output_type": "execute_result"
    }
   ],
   "source": [
    "# Create a dataframe comparing the real and the predicted values of y\n",
    "\n",
    "data = pd.DataFrame({'Actual' : y_test.flatten(), 'Predicted': y_predicted.flatten()})\n",
    "data.head(30)"
   ]
  },
  {
   "cell_type": "markdown",
   "id": "e3ef3f61",
   "metadata": {},
   "source": [
    "#### Comparing how the regression fits the training set"
   ]
  },
  {
   "cell_type": "code",
   "execution_count": 51,
   "id": "4bf41160",
   "metadata": {},
   "outputs": [],
   "source": [
    "# Predict\n",
    "\n",
    "y_predicted_train = regression.predict(X_train)\n",
    "# This is predicting X_train"
   ]
  },
  {
   "cell_type": "code",
   "execution_count": 52,
   "id": "ab36c51c",
   "metadata": {},
   "outputs": [],
   "source": [
    "rmse = mean_squared_error(y_train, y_predicted_train)\n",
    "r2 = r2_score(y_train, y_predicted_train)"
   ]
  },
  {
   "cell_type": "code",
   "execution_count": 53,
   "id": "d7efe210",
   "metadata": {},
   "outputs": [
    {
     "name": "stdout",
     "output_type": "stream",
     "text": [
      "Slope:  [[5.49261114]]\n",
      "Mean squared error:  0.6656742676624555\n",
      "R2 score:  0.4699613960963598\n"
     ]
    }
   ],
   "source": [
    "print('Slope: ', regression.coef_)\n",
    "print('Mean squared error: ', rmse)\n",
    "print('R2 score: ', r2)"
   ]
  },
  {
   "cell_type": "code",
   "execution_count": 56,
   "id": "cb06c261",
   "metadata": {},
   "outputs": [
    {
     "data": {
      "image/png": "[encoded data removed]",
      "text/plain": [
       "<Figure size 432x288 with 1 Axes>"
      ]
     },
     "metadata": {
      "needs_background": "light"
     },
     "output_type": "display_data"
    }
   ],
   "source": [
    "# Visualizing the training set results\n",
    "\n",
    "plot_test = plt\n",
    "plot_test.scatter(X_train, y_train, color ='orange', s=15)\n",
    "plot_test.plot(X_train,y_predicted_train,color = 'red', linewidth =3)\n",
    "plot_test.title('Happiness Score VS Social support (Test set)')\n",
    "plot_test.xlabel('Social support')\n",
    "plot_test.ylabel('Happiness Score')\n",
    "plot_test.show()"
   ]
  },
  {
   "cell_type": "markdown",
   "id": "39e7dbee",
   "metadata": {},
   "source": [
    "The model with the help of slope shows a country with the high social support will have a high happiness score and same goes out for the rms score as well, but w.r.t r2 score is concerned it shows that the model is not a good fit. The r2 value slightly increased for the training data set though, but still it appears to be a less of a good fit. For this, we will have to try other test methods as well"
   ]
  },
  {
   "cell_type": "code",
   "execution_count": null,
   "id": "cc82fa46",
   "metadata": {},
   "outputs": [],
   "source": []
  }
 ],
 "metadata": {
  "kernelspec": {
   "display_name": "Python 3 (ipykernel)",
   "language": "python",
   "name": "python3"
  },
  "language_info": {
   "codemirror_mode": {
    "name": "ipython",
    "version": 3
   },
   "file_extension": ".py",
   "mimetype": "text/x-python",
   "name": "python",
   "nbconvert_exporter": "python",
   "pygments_lexer": "ipython3",
   "version": "3.9.7"
  }
 },
 "nbformat": 4,
 "nbformat_minor": 5
}
